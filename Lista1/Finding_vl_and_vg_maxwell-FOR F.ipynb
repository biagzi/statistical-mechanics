{
 "cells": [
  {
   "cell_type": "code",
   "execution_count": 11,
   "metadata": {},
   "outputs": [
    {
     "name": "stdout",
     "output_type": "stream",
     "text": [
      "0.6402805611222445 0.7136420648198696\n",
      "2.0731462925851702 0.7136420648198696\n"
     ]
    },
    {
     "data": {
      "image/png": "[encoded data removed]",
      "text/plain": [
       "<Figure size 432x288 with 1 Axes>"
      ]
     },
     "metadata": {
      "needs_background": "light"
     },
     "output_type": "display_data"
    }
   ],
   "source": [
    "import numpy as np\n",
    "import matplotlib.pyplot as plt\n",
    "from scipy.integrate import quad\n",
    "from scipy.optimize import newton\n",
    "from scipy.signal import argrelextrema\n",
    "\n",
    "palette = iter(['#9b59b6', '#4c72b0', '#55a868', '#c44e52', '#dbc256'])\n",
    "\n",
    "# Critical pressure, volume and temperature\n",
    "# These values are for the van der Waals equation of state for CO2:\n",
    "# (p - a/V^2)(V-b) = RT. Units: p is in Pa, Vc in m3/mol and T in K.\n",
    "pc = 7.404e6\n",
    "Vc = 1.28e-4\n",
    "Tc = 304\n",
    "\n",
    "def vdw(Tr, Vr):\n",
    "    \"\"\"Van der Waals equation of state.\n",
    "\n",
    "    Return the reduced pressure from the reduced temperature and volume.\n",
    "\n",
    "    \"\"\"\n",
    "\n",
    "    pr = 8*Tr/(3*Vr-1) - 3/Vr**2\n",
    "    #-8*Tr*np.log(3*Vr-1) - 3/Vr \n",
    "    \n",
    "    return pr\n",
    "\n",
    "\n",
    "def vdw_maxwell(Tr, Vr):\n",
    "    \"\"\"Van der Waals equation of state with Maxwell construction.\n",
    "\n",
    "    Return the reduced pressure from the reduced temperature and volume,\n",
    "    applying the Maxwell construction correction to the unphysical region\n",
    "    if necessary.\n",
    "\n",
    "    \"\"\"\n",
    "\n",
    "    pr = vdw(Tr, Vr)\n",
    "    if Tr >= 1:\n",
    "        # No unphysical region above the critical temperature.\n",
    "        return pr\n",
    "\n",
    "    # Initial guess for the position of the Maxwell construction line:\n",
    "    # the volume corresponding to the mean pressure between the minimum and\n",
    "    # maximum in reduced pressure, pr.\n",
    "    iprmin = argrelextrema(pr, np.less)\n",
    "    iprmax = argrelextrema(pr, np.greater)\n",
    "    Vr0 = np.mean([Vr[iprmin], Vr[iprmax]])\n",
    "\n",
    "    def get_Vlims(pr0):\n",
    "        \"\"\"Solve the inverted van der Waals equation for reduced volume.\n",
    "\n",
    "        Return the lowest and highest reduced volumes such that the reduced\n",
    "        pressure is pr0. It only makes sense to call this function for\n",
    "        T<Tc, ie below the critical temperature where there are three roots.\n",
    "\n",
    "        \"\"\"\n",
    "\n",
    "        eos = np.poly1d( (3*pr0, -(pr0+8*Tr), 9, -3) )\n",
    "        roots = eos.r\n",
    "        roots.sort()\n",
    "        Vrmin, _, Vrmax = roots\n",
    "        return Vrmin, Vrmax\n",
    "\n",
    "    def get_area_difference(Vr0):\n",
    "        \"\"\"Return the difference in areas of the van der Waals loops.\n",
    "\n",
    "        Return the difference between the areas of the loops from Vr0 to Vrmax\n",
    "        and from Vrmin to Vr0 where the reduced pressure from the van der Waals\n",
    "        equation is the same at Vrmin, Vr0 and Vrmax. This difference is zero\n",
    "        when the straight line joining Vrmin and Vrmax at pr0 is the Maxwell\n",
    "        construction.\n",
    "\n",
    "        \"\"\"\n",
    "\n",
    "        pr0 = vdw(Tr, Vr0)\n",
    "        Vrmin, Vrmax = get_Vlims(pr0)\n",
    "        return quad(lambda vr: vdw(Tr, vr) - pr0, Vrmin, Vrmax)[0]\n",
    "\n",
    "    # Root finding by Newton's method determines Vr0 corresponding to\n",
    "    # equal loop areas for the Maxwell construction.\n",
    "    Vr0 = newton(get_area_difference, Vr0)\n",
    "    pr0 = vdw(Tr, Vr0)\n",
    "    Vrmin, Vrmax = get_Vlims(pr0)\n",
    "\n",
    "    # Set the pressure in the Maxwell construction region to constant pr0.\n",
    "    pr[(Vr >= Vrmin) & (Vr <= Vrmax)] = pr0\n",
    "    return pr\n",
    "\n",
    "Vr = np.linspace(0.5, 3, 500)\n",
    "\n",
    "def plot_pV(T):\n",
    "    Tr = T / Tc\n",
    "    c = next(palette)\n",
    "    ax.plot(Vr, vdw(Tr, Vr), lw=2, alpha=0.3, color=c)\n",
    "    ax.plot(Vr, vdw_maxwell(Tr, Vr), lw=2, color=c, label='{:.2f}'.format(Tr))\n",
    "    print(Vr[28],vdw_maxwell(Tr, Vr)[28])\n",
    "    print(Vr[314],vdw_maxwell(Tr, Vr)[314])\n",
    "fig, ax = plt.subplots()\n",
    "\n",
    "plot_pV(280)\n",
    "\n",
    "ax.set_xlim(0.4, 3)\n",
    "ax.set_xlabel('Reduced volume')\n",
    "ax.set_ylim(0, 1.6)\n",
    "ax.set_ylabel('Reduced pressure')\n",
    "ax.legend(title='Reduced temperature')\n",
    "\n",
    "print\n",
    "\n",
    "plt.show()"
   ]
  },
  {
   "cell_type": "code",
   "execution_count": null,
   "metadata": {},
   "outputs": [],
   "source": []
  },
  {
   "cell_type": "code",
   "execution_count": null,
   "metadata": {},
   "outputs": [],
   "source": []
  }
 ],
 "metadata": {
  "kernelspec": {
   "display_name": "Python 3",
   "language": "python",
   "name": "python3"
  },
  "language_info": {
   "codemirror_mode": {
    "name": "ipython",
    "version": 3
   },
   "file_extension": ".py",
   "mimetype": "text/x-python",
   "name": "python",
   "nbconvert_exporter": "python",
   "pygments_lexer": "ipython3",
   "version": "3.7.4"
  }
 },
 "nbformat": 4,
 "nbformat_minor": 2
}
